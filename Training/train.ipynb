{
 "cells": [
  {
   "cell_type": "markdown",
   "metadata": {},
   "source": [
    "# QR code Detection using ML"
   ]
  },
  {
   "cell_type": "markdown",
   "metadata": {},
   "source": [
    "The following notebook is used to train an ML model based on YOLO v8 to detect QR codes from images. The dataset used to train are 410 images downloaded from [here](http://www.fit.vutbr.cz/research/groups/graph/pclines/pub_page.php?id=2012-JRTIP-MatrixCode) with a resolution of 2560x1440 each. Each image was manually annotated using [CVAT](http://www.cvat.ai). \n",
    "\n",
    "The model used is an instance of Ultralitycs' [Yolov8](https://github.com/ultralytics/ultralytics), chosen for its ease of usage and speed. \n",
    "\n",
    "The images used to train the model can be found in the directory ./images/train while the corresponding labels can be found in ./labels/train\n",
    "\n",
    "To retrain the model from scratch run this notebook."
   ]
  },
  {
   "cell_type": "code",
   "execution_count": 1,
   "metadata": {},
   "outputs": [],
   "source": [
    "#Install ultralytics to retrieve Yolov8\n",
    "#!pip install ultralytics --user"
   ]
  },
  {
   "cell_type": "code",
   "execution_count": 2,
   "metadata": {},
   "outputs": [],
   "source": [
    "from ultralytics import YOLO"
   ]
  },
  {
   "cell_type": "code",
   "execution_count": null,
   "metadata": {},
   "outputs": [],
   "source": [
    "# Load a model\n",
    "model = YOLO(\"yolov8n.yaml\")  # build a new Yolov8 model \n",
    "\n",
    "# Train the model using the images specified in the config.yaml file\n",
    "results = model.train(data=\"config.yaml\", epochs=200)  # train the model"
   ]
  }
 ],
 "metadata": {
  "kernelspec": {
   "display_name": "Python 3",
   "language": "python",
   "name": "python3"
  },
  "language_info": {
   "codemirror_mode": {
    "name": "ipython",
    "version": 3
   },
   "file_extension": ".py",
   "mimetype": "text/x-python",
   "name": "python",
   "nbconvert_exporter": "python",
   "pygments_lexer": "ipython3",
   "version": "3.10.8"
  },
  "orig_nbformat": 4
 },
 "nbformat": 4,
 "nbformat_minor": 2
}
